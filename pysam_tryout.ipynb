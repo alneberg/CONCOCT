{
 "metadata": {
  "name": "",
  "signature": "sha256:d60a1f90fa407894ad5752d8e8b0003b700ca812fc987809fa240cdce8e1d742"
 },
 "nbformat": 3,
 "nbformat_minor": 0,
 "worksheets": [
  {
   "cells": [
    {
     "cell_type": "code",
     "collapsed": false,
     "input": [
      "import pysam\n",
      "import pandas as p"
     ],
     "language": "python",
     "metadata": {},
     "outputs": [],
     "prompt_number": 37
    },
    {
     "cell_type": "code",
     "collapsed": false,
     "input": [
      "samfile = pysam.AlignmentFile(\"tests/test_data/map/ten_reads/ten_reads_two_contigs-s.bam\", \"rb\")"
     ],
     "language": "python",
     "metadata": {},
     "outputs": [],
     "prompt_number": 2
    },
    {
     "cell_type": "code",
     "collapsed": false,
     "input": [
      "for ref, rlen in zip(samfile.references, samfile.lengths):\n",
      "    iterator = samfile.pileup(reference = ref)\n",
      "    avg_covs = sum(x.n for x in iterator) / float(rlen)\n",
      "    print avg_covs"
     ],
     "language": "python",
     "metadata": {},
     "outputs": [
      {
       "output_type": "stream",
       "stream": "stdout",
       "text": [
        "0.100020004001\n",
        "0.61919504644\n"
       ]
      }
     ],
     "prompt_number": 54
    },
    {
     "cell_type": "code",
     "collapsed": false,
     "input": [
      "iterator = samfile.pileup(reference = \"contig-75000034\")\n",
      "covs = [x.n for x in iterator]"
     ],
     "language": "python",
     "metadata": {},
     "outputs": [],
     "prompt_number": 48
    },
    {
     "cell_type": "code",
     "collapsed": false,
     "input": [
      "sum(covs)/float(len(covs))"
     ],
     "language": "python",
     "metadata": {},
     "outputs": [
      {
       "metadata": {},
       "output_type": "pyout",
       "prompt_number": 49,
       "text": [
        "1.3458950201884252"
       ]
      }
     ],
     "prompt_number": 49
    },
    {
     "cell_type": "code",
     "collapsed": false,
     "input": [
      "len(covs)"
     ],
     "language": "python",
     "metadata": {},
     "outputs": [
      {
       "metadata": {},
       "output_type": "pyout",
       "prompt_number": 50,
       "text": [
        "743"
       ]
      }
     ],
     "prompt_number": 50
    },
    {
     "cell_type": "code",
     "collapsed": false,
     "input": [
      "10*100.0/1615"
     ],
     "language": "python",
     "metadata": {},
     "outputs": [
      {
       "metadata": {},
       "output_type": "pyout",
       "prompt_number": 55,
       "text": [
        "0.6191950464396285"
       ]
      }
     ],
     "prompt_number": 55
    },
    {
     "cell_type": "code",
     "collapsed": false,
     "input": [
      "10*100.0/9998"
     ],
     "language": "python",
     "metadata": {},
     "outputs": [
      {
       "metadata": {},
       "output_type": "pyout",
       "prompt_number": 56,
       "text": [
        "0.10002000400080016"
       ]
      }
     ],
     "prompt_number": 56
    },
    {
     "cell_type": "code",
     "collapsed": false,
     "input": [
      "samfile.references"
     ],
     "language": "python",
     "metadata": {},
     "outputs": [
      {
       "metadata": {},
       "output_type": "pyout",
       "prompt_number": 51,
       "text": [
        "('contig-21000001', 'contig-75000034')"
       ]
      }
     ],
     "prompt_number": 51
    },
    {
     "cell_type": "code",
     "collapsed": false,
     "input": [
      "samfile.lengths"
     ],
     "language": "python",
     "metadata": {},
     "outputs": [
      {
       "metadata": {},
       "output_type": "pyout",
       "prompt_number": 53,
       "text": [
        "(9998, 1615)"
       ]
      }
     ],
     "prompt_number": 53
    },
    {
     "cell_type": "code",
     "collapsed": false,
     "input": [
      "def get_bam_dict(bamfile):\n",
      "    \"\"\"Uses samtools pileup engine to calculate average coverage for each contig\"\"\"\n",
      "    output_dict = {}\n",
      "    samfile = pysam.AlignmentFile(bamfile, \"rb\")\n",
      "\n",
      "    for ref, rlen in zip(samfile.references, samfile.lengths):\n",
      "        iterator = samfile.pileup(reference = ref)\n",
      "        avg_covs = sum(x.n for x in iterator) / float(rlen)\n",
      "        output_dict[ref] = avg_covs\n",
      "\n",
      "    return output_dict"
     ],
     "language": "python",
     "metadata": {},
     "outputs": [],
     "prompt_number": 57
    },
    {
     "cell_type": "code",
     "collapsed": false,
     "input": [
      "def generate_input_table(bamfiles, samplenames=None, isbedfiles=False):\n",
      "    covdicts = {}\n",
      "\n",
      "    assert len(bamfiles) == len(samplenames)\n",
      "    for bamfile, sample_name in zip(bamfiles, samplenames):\n",
      "        if isbedfiles == False:\n",
      "            covdicts[sample_name] = get_bam_dict(bamfile)\n",
      "        else:\n",
      "            covdicts[sample_name] = get_bedcov_dict(bamfile)\n",
      "    return covdicts\n",
      "    #print_input_table(covdicts)"
     ],
     "language": "python",
     "metadata": {},
     "outputs": [],
     "prompt_number": 63
    },
    {
     "cell_type": "code",
     "collapsed": false,
     "input": [
      "get_bam_dict(\"tests/test_data/map/ten_reads/ten_reads_two_contigs-s.bam\")"
     ],
     "language": "python",
     "metadata": {},
     "outputs": [
      {
       "metadata": {},
       "output_type": "pyout",
       "prompt_number": 60,
       "text": [
        "{'contig-21000001': 0.10002000400080016, 'contig-75000034': 0.6191950464396285}"
       ]
      }
     ],
     "prompt_number": 60
    },
    {
     "cell_type": "code",
     "collapsed": false,
     "input": [
      "covdicts = generate_input_table([\"tests/test_data/map/ten_reads/ten_reads_two_contigs-s.bam\", \n",
      "                      \"tests/test_data/map/twenty_reads/twenty_reads_two_contigs-s.bam\"], \n",
      "                     samplenames=[\"ten_reads\", \"twenty_reads\"])"
     ],
     "language": "python",
     "metadata": {},
     "outputs": [],
     "prompt_number": 65
    },
    {
     "cell_type": "code",
     "collapsed": false,
     "input": [
      "covdicts"
     ],
     "language": "python",
     "metadata": {},
     "outputs": [
      {
       "metadata": {},
       "output_type": "pyout",
       "prompt_number": 66,
       "text": [
        "{'ten_reads': {'contig-21000001': 0.10002000400080016,\n",
        "  'contig-75000034': 0.6191950464396285},\n",
        " 'twenty_reads': {'contig-21000001': 0.20004000800160032,\n",
        "  'contig-75000034': 1.238390092879257}}"
       ]
      }
     ],
     "prompt_number": 66
    },
    {
     "cell_type": "code",
     "collapsed": false,
     "input": [
      "p.DataFrame.from_dict(covdicts)"
     ],
     "language": "python",
     "metadata": {},
     "outputs": [
      {
       "html": [
        "<div style=\"max-height:1000px;max-width:1500px;overflow:auto;\">\n",
        "<table border=\"1\" class=\"dataframe\">\n",
        "  <thead>\n",
        "    <tr style=\"text-align: right;\">\n",
        "      <th></th>\n",
        "      <th>ten_reads</th>\n",
        "      <th>twenty_reads</th>\n",
        "    </tr>\n",
        "  </thead>\n",
        "  <tbody>\n",
        "    <tr>\n",
        "      <th>contig-21000001</th>\n",
        "      <td> 0.100020</td>\n",
        "      <td> 0.20004</td>\n",
        "    </tr>\n",
        "    <tr>\n",
        "      <th>contig-75000034</th>\n",
        "      <td> 0.619195</td>\n",
        "      <td> 1.23839</td>\n",
        "    </tr>\n",
        "  </tbody>\n",
        "</table>\n",
        "<p>2 rows \u00d7 2 columns</p>\n",
        "</div>"
       ],
       "metadata": {},
       "output_type": "pyout",
       "prompt_number": 68,
       "text": [
        "                 ten_reads  twenty_reads\n",
        "contig-21000001   0.100020       0.20004\n",
        "contig-75000034   0.619195       1.23839\n",
        "\n",
        "[2 rows x 2 columns]"
       ]
      }
     ],
     "prompt_number": 68
    },
    {
     "cell_type": "code",
     "collapsed": false,
     "input": [
      "covdicts2 = covdicts\n",
      "covdicts2['twenty_reads']['contig_whatshallmacallet'] = '0.123'"
     ],
     "language": "python",
     "metadata": {},
     "outputs": [],
     "prompt_number": 70
    },
    {
     "cell_type": "code",
     "collapsed": false,
     "input": [
      "df = p.DataFrame.from_dict(covdicts2)"
     ],
     "language": "python",
     "metadata": {},
     "outputs": [],
     "prompt_number": 72
    },
    {
     "cell_type": "code",
     "collapsed": false,
     "input": [
      "df.fillna(0.0)"
     ],
     "language": "python",
     "metadata": {},
     "outputs": [
      {
       "html": [
        "<div style=\"max-height:1000px;max-width:1500px;overflow:auto;\">\n",
        "<table border=\"1\" class=\"dataframe\">\n",
        "  <thead>\n",
        "    <tr style=\"text-align: right;\">\n",
        "      <th></th>\n",
        "      <th>ten_reads</th>\n",
        "      <th>twenty_reads</th>\n",
        "    </tr>\n",
        "  </thead>\n",
        "  <tbody>\n",
        "    <tr>\n",
        "      <th>contig-21000001</th>\n",
        "      <td> 0.100020</td>\n",
        "      <td> 0.20004</td>\n",
        "    </tr>\n",
        "    <tr>\n",
        "      <th>contig-75000034</th>\n",
        "      <td> 0.619195</td>\n",
        "      <td> 1.23839</td>\n",
        "    </tr>\n",
        "    <tr>\n",
        "      <th>contig_whatshallmacallet</th>\n",
        "      <td> 0.000000</td>\n",
        "      <td>   0.123</td>\n",
        "    </tr>\n",
        "  </tbody>\n",
        "</table>\n",
        "<p>3 rows \u00d7 2 columns</p>\n",
        "</div>"
       ],
       "metadata": {},
       "output_type": "pyout",
       "prompt_number": 80,
       "text": [
        "                          ten_reads twenty_reads\n",
        "contig-21000001            0.100020      0.20004\n",
        "contig-75000034            0.619195      1.23839\n",
        "contig_whatshallmacallet   0.000000        0.123\n",
        "\n",
        "[3 rows x 2 columns]"
       ]
      }
     ],
     "prompt_number": 80
    },
    {
     "cell_type": "code",
     "collapsed": false,
     "input": [],
     "language": "python",
     "metadata": {},
     "outputs": []
    }
   ],
   "metadata": {}
  }
 ]
}